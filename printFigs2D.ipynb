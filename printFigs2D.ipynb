{
 "cells": [
  {
   "cell_type": "code",
   "execution_count": 10,
   "metadata": {
    "collapsed": false,
    "deletable": true,
    "editable": true
   },
   "outputs": [
    {
     "data": {
      "text/plain": [
       "GPU is ON\t\n",
       "Device 1:\t\n"
      ]
     },
     "execution_count": 10,
     "metadata": {},
     "output_type": "execute_result"
    },
    {
     "data": {
      "text/plain": [
       "\t Free memory 11500444160\t\n",
       "\t Total memory 12782075904\t\n",
       "Device 2:\t\n"
      ]
     },
     "execution_count": 10,
     "metadata": {},
     "output_type": "execute_result"
    },
    {
     "data": {
      "text/plain": [
       "\t Free memory 11997492224\t\n",
       "\t Total memory 12778799104\t\n",
       "Device 3:\t\n",
       "\t Free memory 12176064512\t\n",
       "\t Total memory 12782075904\t\n",
       "Setting up\t\n",
       "Has cudnn: \t\n",
       "true\t\n"
      ]
     },
     "execution_count": 10,
     "metadata": {},
     "output_type": "execute_result"
    },
    {
     "data": {
      "text/plain": [
       "Loading data from ./trainAAE2D_256\t\n"
      ]
     },
     "execution_count": 10,
     "metadata": {},
     "output_type": "execute_result"
    },
    {
     "data": {
      "text/plain": [
       "Done\t\n",
       "Loading Models\t\n"
      ]
     },
     "execution_count": 10,
     "metadata": {},
     "output_type": "execute_result"
    },
    {
     "data": {
      "text/plain": [
       "Done Loading Models\t\n",
       "/root/images/release_4_1_17/release_v2/aligned/2D/\t\n",
       "Loading images from /root/images/release_4_1_17/release_v2/aligned/2D//Beta actin\t\n"
      ]
     },
     "execution_count": 10,
     "metadata": {},
     "output_type": "execute_result"
    },
    {
     "data": {
      "text/plain": [
       "Loading images from /root/images/release_4_1_17/release_v2/aligned/2D//ZO1\t\n"
      ]
     },
     "execution_count": 10,
     "metadata": {},
     "output_type": "execute_result"
    },
    {
     "data": {
      "text/plain": [
       "Loading images from /root/images/release_4_1_17/release_v2/aligned/2D//Sec61 beta\t\n"
      ]
     },
     "execution_count": 10,
     "metadata": {},
     "output_type": "execute_result"
    },
    {
     "data": {
      "text/plain": [
       "Loading images from /root/images/release_4_1_17/release_v2/aligned/2D//Alpha actinin\t\n"
      ]
     },
     "execution_count": 10,
     "metadata": {},
     "output_type": "execute_result"
    },
    {
     "data": {
      "text/plain": [
       "Loading images from /root/images/release_4_1_17/release_v2/aligned/2D//Tom20\t\n"
      ]
     },
     "execution_count": 10,
     "metadata": {},
     "output_type": "execute_result"
    },
    {
     "data": {
      "text/plain": [
       "Loading images from /root/images/release_4_1_17/release_v2/aligned/2D//Lamin B1\t\n"
      ]
     },
     "execution_count": 10,
     "metadata": {},
     "output_type": "execute_result"
    },
    {
     "data": {
      "text/plain": [
       "Loading images from /root/images/release_4_1_17/release_v2/aligned/2D//Alpha tubulin\t\n"
      ]
     },
     "execution_count": 10,
     "metadata": {},
     "output_type": "execute_result"
    },
    {
     "data": {
      "text/plain": [
       "Loading images from /root/images/release_4_1_17/release_v2/aligned/2D//Desmoplakin\t\n"
      ]
     },
     "execution_count": 10,
     "metadata": {},
     "output_type": "execute_result"
    },
    {
     "data": {
      "text/plain": [
       "Loading images from /root/images/release_4_1_17/release_v2/aligned/2D//Myosin IIB\t\n"
      ]
     },
     "execution_count": 10,
     "metadata": {},
     "output_type": "execute_result"
    },
    {
     "data": {
      "text/plain": [
       "Loading images from /root/images/release_4_1_17/release_v2/aligned/2D//Fibrillarin\t\n"
      ]
     },
     "execution_count": 10,
     "metadata": {},
     "output_type": "execute_result"
    },
    {
     "data": {
      "text/plain": [
       "{\n",
       "  1 : Beta actin\n",
       "  2 : ZO1\n",
       "  3 : Sec61 beta\n",
       "  4 : Alpha actinin\n",
       "  5 : Tom20\n",
       "  6 : Lamin B1\n",
       "  7 : Alpha tubulin\n",
       "  8 : Desmoplakin\n",
       "  9 : Myosin IIB\n",
       "  10 : Fibrillarin\n",
       "}\n"
      ]
     },
     "execution_count": 10,
     "metadata": {},
     "output_type": "execute_result"
    }
   ],
   "source": [
    "require 'cutorch' -- Use CUDA if available\n",
    "require 'cudnn'\n",
    "require 'cunn'\n",
    "\n",
    "-- print(cudnn)\n",
    "\n",
    "-- Load dependencies\n",
    "optim = require 'optim'\n",
    "gnuplot = require 'gnuplot'\n",
    "image = require 'image'\n",
    "nn = require 'nn'\n",
    "\n",
    "require 'paths'\n",
    "\n",
    "count = cutorch.getDeviceCount()\n",
    "--     torch.setdefaulttensortype('torch.CudaTensor')    \n",
    "print('GPU is ON')\n",
    "for i = 1, count do\n",
    "    print('Device ' .. i .. ':')\n",
    "    freeMemory, totalMemory = cutorch.getMemoryUsage(i)\n",
    "    print('\\t Free memory ' .. freeMemory)\n",
    "    print('\\t Total memory ' .. totalMemory)\n",
    "end\n",
    "\n",
    "cutorch.setDevice(2)\n",
    "torch.setnumthreads(12)\n",
    "\n",
    "-- Set up Torch\n",
    "print('Setting up')\n",
    "torch.setdefaulttensortype('torch.FloatTensor')\n",
    "torch.manualSeed(1) \n",
    "cutorch.manualSeed(torch.random())\n",
    "-- end\n",
    "\n",
    "cuda = true\n",
    "hasCudnn = true\n",
    "\n",
    "print('Has cudnn: ')\n",
    "print(hasCudnn)\n",
    "\n",
    "\n",
    "package.loaded['./modelTools'] = nil\n",
    "DataProvider = require ('./modelTools')\n",
    "\n",
    "package.loaded['./DataProvider2D'] = nil\n",
    "DataProvider = require ('./DataProvider2D')\n",
    "\n",
    "package.loaded['setupAAEGANv2'] = nil\n",
    "setup = require 'setupAAEGANv2'\n",
    "\n",
    "model_opts = setup.getModelOpts()\n",
    "\n",
    "model_opts.parent_dir = './trainAAE2D_256'\n",
    "model_opts.model_name = 'caae-nopool_GAN_v2_AAEGANv1_4_alldat'\n",
    "model_opts.image_dir = '/root/images/release_4_1_17/release_v2/aligned/2D/'\n",
    "\n",
    "model_opts.save_dir = model_opts.parent_dir .. '/' .. model_opts.model_name\n",
    "\n",
    "model_opts.channel_inds_in = torch.LongTensor{1,3}\n",
    "model_opts.channel_inds_out = torch.LongTensor{1,3}\n",
    "model_opts.nChOut = 3\n",
    "model_opts.nChIn = 3\n",
    "model_opts.rotate = false\n",
    "\n",
    "dataProvider = DataProvider.create(model_opts.image_dir, model_opts)\n",
    "\n",
    "print('Loading Models')\n",
    "\n",
    "encoder = torch.load(model_opts.save_dir .. '/encoder.t7')\n",
    "\n",
    "decoder:cuda()\n",
    "encoder:cuda()\n",
    "\n",
    "print('Done Loading Models')\n",
    "\n",
    "decoder:evaluate()\n",
    "encoder:evaluate()\n",
    "\n",
    "package.loaded['utils'] = nil\n",
    "setup = require 'utils'\n",
    "\n",
    "print(model_opts.image_dir)\n",
    "\n",
    "image_dir = model_opts.image_dir\n",
    "image_paths = {}\n",
    "classes = {}\n",
    "c = 0\n",
    "for dir in paths.iterdirs(image_dir) do\n",
    "    print('Loading images from ' .. image_dir .. '/' .. dir)\n",
    "\n",
    "    im_dir = image_dir .. '/' .. dir .. '/'\n",
    "    im_pattern = 'png'\n",
    "    \n",
    "    local p = {}\n",
    "    local c_files = 1\n",
    "    \n",
    "    for f in paths.files(im_dir, im_pattern) do\n",
    "        p[c_files] = im_dir .. f\n",
    "        c_files = c_files+1\n",
    "    end\n",
    "    \n",
    "    -- natural sort\n",
    "    local image_paths_tmp = utils.alphanumsort(p)\n",
    "    \n",
    "    \n",
    "    for i = 1,#image_paths_tmp do\n",
    "        c = c+1\n",
    "\n",
    "        image_paths[c] = image_paths_tmp[i]\n",
    "\n",
    "        tokens = utils.split(image_paths_tmp[i], '/')\n",
    "        classes[c] = tokens[#tokens-1]    \n",
    "    end\n",
    "end\n",
    "\n",
    "-- print(classes)\n",
    "\n",
    "classes, labels = utils.unique(classes)\n",
    "\n",
    "print(classes)\n",
    "\n",
    "\n",
    "\n",
    "save_dir = model_opts.save_dir .. '/' .. 'gridded'\n",
    "paths.mkdir(save_dir)\n",
    "\n",
    "nsteps = 21;\n",
    "\n",
    "pos = torch.linspace(-3, 3, nsteps);\n",
    "\n",
    "im_out = {}\n",
    "\n",
    "-- for k = 1, 10 do\n",
    "    imgs_i = {}\n",
    "    for i = 1,nsteps do\n",
    "        imgs_j = {}\n",
    "        for j = 1,nsteps do\n",
    "            dat = {}\n",
    "        \n",
    "            dat[1] = torch.zeros(2,model_opts.nLatentDims):cuda()\n",
    "            dat[1][{{},3}] = pos[i]\n",
    "            dat[1][{{},4}] = pos[j]\n",
    "\n",
    "            imgs_j[j] = decoder:forward(dat)[1]:float()\n",
    "            \n",
    "        end\n",
    "        \n",
    "        imgs_i[i] = torch.cat(imgs_j, 2)\n",
    "    end\n",
    "    \n",
    "    imgs_struct = torch.cat(imgs_i,3)\n",
    "\n",
    "    imgs_out = torch.zeros(3, imgs_struct:size(2), imgs_struct:size(2))\n",
    "\n",
    "    imgs_out[1] = imgs_struct[1]\n",
    "    imgs_out[3] = imgs_struct[2]\n",
    "    \n",
    "    save_path = save_dir .. '/cellnuc.png'\n",
    "    image.save(save_path, imgs_out)\n",
    "-- end\n",
    "\n",
    "encoder = nil\n",
    "\n",
    "\n"
   ]
  },
  {
   "cell_type": "code",
   "execution_count": 7,
   "metadata": {
    "collapsed": false
   },
   "outputs": [
    {
     "data": {
      "text/plain": [
       "./trainAAE2D_256/caae-nopool_GAN_v2_AAEGANv1_4_alldat/gridded_ref\t\n"
      ]
     },
     "execution_count": 7,
     "metadata": {},
     "output_type": "execute_result"
    }
   ],
   "source": [
    "save_dir"
   ]
  },
  {
   "cell_type": "code",
   "execution_count": 1,
   "metadata": {
    "collapsed": false,
    "deletable": true,
    "editable": true
   },
   "outputs": [
    {
     "data": {
      "text/plain": [
       "GPU is ON\t\n",
       "Device 1:\t\n"
      ]
     },
     "execution_count": 1,
     "metadata": {},
     "output_type": "execute_result"
    },
    {
     "data": {
      "text/plain": [
       "\t Free memory 12096372736\t\n",
       "\t Total memory 12782075904\t\n",
       "Device 2:\t\n"
      ]
     },
     "execution_count": 1,
     "metadata": {},
     "output_type": "execute_result"
    },
    {
     "data": {
      "text/plain": [
       "\t Free memory 12077301760\t\n",
       "\t Total memory 12778799104\t\n",
       "Device 3:\t\n"
      ]
     },
     "execution_count": 1,
     "metadata": {},
     "output_type": "execute_result"
    },
    {
     "data": {
      "text/plain": [
       "\t Free memory 12176064512\t\n",
       "\t Total memory 12782075904\t\n",
       "Setting up\t\n",
       "Has cudnn: \t\n",
       "true\t\n"
      ]
     },
     "execution_count": 1,
     "metadata": {},
     "output_type": "execute_result"
    },
    {
     "data": {
      "text/plain": [
       "Loading data from ./trainAAE2D_256\t\n"
      ]
     },
     "execution_count": 1,
     "metadata": {},
     "output_type": "execute_result"
    },
    {
     "data": {
      "text/plain": [
       "Done\t\n",
       "Loading Models\t\n"
      ]
     },
     "execution_count": 1,
     "metadata": {},
     "output_type": "execute_result"
    },
    {
     "data": {
      "text/plain": [
       "Done Loading Models\t\n"
      ]
     },
     "execution_count": 1,
     "metadata": {},
     "output_type": "execute_result"
    },
    {
     "data": {
      "text/plain": [
       "/root/images/release_4_1_17/release_v2/aligned/2D/\t\n",
       "Loading images from /root/images/release_4_1_17/release_v2/aligned/2D//Beta actin\t\n"
      ]
     },
     "execution_count": 1,
     "metadata": {},
     "output_type": "execute_result"
    },
    {
     "data": {
      "text/plain": [
       "Loading images from /root/images/release_4_1_17/release_v2/aligned/2D//ZO1\t\n"
      ]
     },
     "execution_count": 1,
     "metadata": {},
     "output_type": "execute_result"
    },
    {
     "data": {
      "text/plain": [
       "Loading images from /root/images/release_4_1_17/release_v2/aligned/2D//Sec61 beta\t\n"
      ]
     },
     "execution_count": 1,
     "metadata": {},
     "output_type": "execute_result"
    },
    {
     "data": {
      "text/plain": [
       "Loading images from /root/images/release_4_1_17/release_v2/aligned/2D//Alpha actinin\t\n"
      ]
     },
     "execution_count": 1,
     "metadata": {},
     "output_type": "execute_result"
    },
    {
     "data": {
      "text/plain": [
       "Loading images from /root/images/release_4_1_17/release_v2/aligned/2D//Tom20\t\n"
      ]
     },
     "execution_count": 1,
     "metadata": {},
     "output_type": "execute_result"
    },
    {
     "data": {
      "text/plain": [
       "Loading images from /root/images/release_4_1_17/release_v2/aligned/2D//Lamin B1\t\n"
      ]
     },
     "execution_count": 1,
     "metadata": {},
     "output_type": "execute_result"
    },
    {
     "data": {
      "text/plain": [
       "Loading images from /root/images/release_4_1_17/release_v2/aligned/2D//Alpha tubulin\t\n"
      ]
     },
     "execution_count": 1,
     "metadata": {},
     "output_type": "execute_result"
    },
    {
     "data": {
      "text/plain": [
       "Loading images from /root/images/release_4_1_17/release_v2/aligned/2D//Desmoplakin\t\n"
      ]
     },
     "execution_count": 1,
     "metadata": {},
     "output_type": "execute_result"
    },
    {
     "data": {
      "text/plain": [
       "Loading images from /root/images/release_4_1_17/release_v2/aligned/2D//Myosin IIB\t\n"
      ]
     },
     "execution_count": 1,
     "metadata": {},
     "output_type": "execute_result"
    },
    {
     "data": {
      "text/plain": [
       "Loading images from /root/images/release_4_1_17/release_v2/aligned/2D//Fibrillarin\t\n"
      ]
     },
     "execution_count": 1,
     "metadata": {},
     "output_type": "execute_result"
    },
    {
     "data": {
      "text/plain": [
       "{\n",
       "  1 : Beta actin\n",
       "  2 : ZO1\n",
       "  3 : Sec61 beta\n",
       "  4 : Alpha actinin\n",
       "  5 : Tom20\n",
       "  6 : Lamin B1\n",
       "  7 : Alpha tubulin\n",
       "  8 : Desmoplakin\n",
       "  9 : Myosin IIB\n",
       "  10 : Fibrillarin\n",
       "}\n"
      ]
     },
     "execution_count": 1,
     "metadata": {},
     "output_type": "execute_result"
    }
   ],
   "source": [
    "require 'cutorch' -- Use CUDA if available\n",
    "require 'cudnn'\n",
    "require 'cunn'\n",
    "\n",
    "-- print(cudnn)\n",
    "\n",
    "-- Load dependencies\n",
    "optim = require 'optim'\n",
    "gnuplot = require 'gnuplot'\n",
    "image = require 'image'\n",
    "nn = require 'nn'\n",
    "\n",
    "require 'paths'\n",
    "\n",
    "count = cutorch.getDeviceCount()\n",
    "--     torch.setdefaulttensortype('torch.CudaTensor')    \n",
    "print('GPU is ON')\n",
    "for i = 1, count do\n",
    "    print('Device ' .. i .. ':')\n",
    "    freeMemory, totalMemory = cutorch.getMemoryUsage(i)\n",
    "    print('\\t Free memory ' .. freeMemory)\n",
    "    print('\\t Total memory ' .. totalMemory)\n",
    "end\n",
    "\n",
    "cutorch.setDevice(2)\n",
    "torch.setnumthreads(12)\n",
    "\n",
    "-- Set up Torch\n",
    "print('Setting up')\n",
    "torch.setdefaulttensortype('torch.FloatTensor')\n",
    "torch.manualSeed(1) \n",
    "cutorch.manualSeed(torch.random())\n",
    "-- end\n",
    "\n",
    "cuda = true\n",
    "hasCudnn = true\n",
    "\n",
    "print('Has cudnn: ')\n",
    "print(hasCudnn)\n",
    "\n",
    "\n",
    "package.loaded['./modelTools'] = nil\n",
    "DataProvider = require ('./modelTools')\n",
    "\n",
    "package.loaded['./DataProvider2D'] = nil\n",
    "DataProvider = require ('./DataProvider2D')\n",
    "\n",
    "package.loaded['setupAAEGANv2'] = nil\n",
    "setup = require 'setupAAEGANv2'\n",
    "\n",
    "model_opts = setup.getModelOpts()\n",
    "\n",
    "model_opts.parent_dir = './trainAAE2D_256'\n",
    "model_opts.model_name = 'caae-nopool_GAN_v2_AAEGANv1_4_alldat_pattern'\n",
    "model_opts.image_dir = '/root/images/release_4_1_17/release_v2/aligned/2D/'\n",
    "\n",
    "model_opts.save_dir = model_opts.parent_dir .. '/' .. model_opts.model_name\n",
    "\n",
    "model_opts.channel_inds_in = torch.LongTensor{1,2,3}\n",
    "model_opts.channel_inds_out = torch.LongTensor{1,2,3}\n",
    "model_opts.nChOut = 3\n",
    "model_opts.nChIn = 3\n",
    "model_opts.rotate = false\n",
    "\n",
    "dataProvider = DataProvider.create(model_opts.image_dir, model_opts)\n",
    "\n",
    "print('Loading Models')\n",
    "\n",
    "decoder = torch.load(model_opts.save_dir .. '/decoder.t7')\n",
    "encoder = torch.load(model_opts.save_dir .. '/encoder.t7')\n",
    "\n",
    "decoder:cuda()\n",
    "encoder:cuda()\n",
    "\n",
    "print('Done Loading Models')\n",
    "\n",
    "decoder:evaluate()\n",
    "encoder:evaluate()\n",
    "\n",
    "package.loaded['utils'] = nil\n",
    "setup = require 'utils'\n",
    "\n",
    "print(model_opts.image_dir)\n",
    "\n",
    "image_dir = model_opts.image_dir\n",
    "image_paths = {}\n",
    "classes = {}\n",
    "c = 0\n",
    "for dir in paths.iterdirs(image_dir) do\n",
    "    print('Loading images from ' .. image_dir .. '/' .. dir)\n",
    "\n",
    "    im_dir = image_dir .. '/' .. dir .. '/'\n",
    "    im_pattern = 'png'\n",
    "    \n",
    "    local p = {}\n",
    "    local c_files = 1\n",
    "    \n",
    "    for f in paths.files(im_dir, im_pattern) do\n",
    "        p[c_files] = im_dir .. f\n",
    "        c_files = c_files+1\n",
    "    end\n",
    "    \n",
    "    -- natural sort\n",
    "    local image_paths_tmp = utils.alphanumsort(p)\n",
    "    \n",
    "    \n",
    "    for i = 1,#image_paths_tmp do\n",
    "        c = c+1\n",
    "\n",
    "        image_paths[c] = image_paths_tmp[i]\n",
    "\n",
    "        tokens = utils.split(image_paths_tmp[i], '/')\n",
    "        classes[c] = tokens[#tokens-1]    \n",
    "    end\n",
    "end\n",
    "\n",
    "-- print(classes)\n",
    "\n",
    "classes, labels = utils.unique(classes)\n",
    "\n",
    "print(classes)\n",
    "\n",
    "\n"
   ]
  },
  {
   "cell_type": "code",
   "execution_count": null,
   "metadata": {
    "collapsed": true,
    "deletable": true,
    "editable": true
   },
   "outputs": [],
   "source": [
    "\n",
    "save_dir = model_opts.save_dir .. '/' .. 'gridded'\n",
    "paths.mkdir(save_dir)\n",
    "\n",
    "nsteps = 21;\n",
    "\n",
    "pos = torch.linspace(-3, 3, nsteps);\n",
    "\n",
    "im_out = {}\n",
    "\n",
    "for k = 1, 10 do\n",
    "    imgs_i = {}\n",
    "    for i = 1,nsteps do\n",
    "        imgs_j = {}\n",
    "        for j = 1,nsteps do\n",
    "            dat = {}\n",
    "            dat[1] = torch.zeros(2,10):fill(-26):cuda()\n",
    "            dat[1][{{},k}] = 1\n",
    "        \n",
    "            dat[2] = torch.zeros(2,model_opts.nLatentDims):cuda()\n",
    "            dat[2][{{},3}] = pos[i]\n",
    "            dat[2][{{},4}] = pos[j]\n",
    "            \n",
    "            dat[3] = torch.zeros(2,model_opts.nLatentDims):cuda()\n",
    "            \n",
    "            imgs_j[j] = decoder:forward(dat)[1]:float()\n",
    "            \n",
    "        end\n",
    "        \n",
    "        imgs_i[i] = torch.cat(imgs_j, 2)\n",
    "    end\n",
    "    \n",
    "    imgs_struct = torch.cat(imgs_i,3)\n",
    "--     itorch.image(imgs_struct)\n",
    "    save_path = save_dir .. '/' .. classes[k] .. '.png'\n",
    "    image.save(save_path, imgs_struct)\n",
    "end\n"
   ]
  },
  {
   "cell_type": "code",
   "execution_count": null,
   "metadata": {
    "collapsed": false,
    "deletable": true,
    "editable": true
   },
   "outputs": [],
   "source": [
    "\n",
    "\n",
    "\n",
    "print_images = function(encoder, decoder, dataProvider, train_or_test, save_dir)\n",
    "        \n",
    "    require 'paths'\n",
    "\n",
    "    paths.mkdir(save_dir)\n",
    "\n",
    "    ndat = dataProvider[train_or_test].labels:size(1)\n",
    "    nclasses = dataProvider[train_or_test].labels:size(2)\n",
    "\n",
    "    for j = 1,ndat do\n",
    "--         print('Printing image ' .. j)\n",
    "        img_num = torch.LongTensor{j}\n",
    "\n",
    "        local label = dataProvider:getLabels(torch.LongTensor{j,j}, train_or_test)\n",
    "        local img = dataProvider:getImages(torch.LongTensor{j,j}, train_or_test):cuda()\n",
    "        local imsize = img:size()\n",
    "        local out_latent = nil\n",
    "        out_latent = encoder:forward(img)\n",
    "\n",
    "        out_latent[3] = torch.zeros(2,model_opts.nLatentDims):cuda()\n",
    "\n",
    "        local out_img = torch.Tensor(nclasses, 3, imsize[3], imsize[4]):cuda()\n",
    "\n",
    "        im_path = dataProvider.image_paths[dataProvider[train_or_test].inds[j]]\n",
    "        tokens = utils.split(im_path, '/|.')\n",
    "        im_class = tokens[7]\n",
    "        im_id = tokens[8]\n",
    "        \n",
    "        print('Printing images for ' .. im_class .. ' ' .. im_id)\n",
    "        \n",
    "        save_path = save_dir .. '/' .. im_class .. '_'.. im_id .. '_orig.png'\n",
    "        image.save(save_path, img[1])\n",
    "        \n",
    "        for i = 1,#dataProvider.classes do\n",
    "            save_path = save_dir .. '/' .. im_class .. '_'.. im_id .. '_pred_' .. classes[i] .. '.png'\n",
    "            \n",
    "            if not paths.filep(save_path) then\n",
    "                one_hot = torch.ones(2,nclasses):fill(-25):cuda()\n",
    "                one_hot[{{1},{i}}] = 0\n",
    "\n",
    "                out_latent[1] = one_hot\n",
    "                out_img = decoder:forward(out_latent)[1][2]\n",
    "\n",
    "\n",
    "                image.save(save_path, out_img)\n",
    "            end\n",
    "            \n",
    "        end\n",
    "    end\n",
    "end\n",
    "\n",
    "print_images(encoder, decoder, dataProvider, 'train', model_opts.save_dir .. '/' .. 'pred_train')\n",
    "print_images(encoder, decoder, dataProvider, 'test', model_opts.save_dir .. '/' .. 'pred_test')"
   ]
  },
  {
   "cell_type": "code",
   "execution_count": 28,
   "metadata": {
    "collapsed": false,
    "deletable": true,
    "editable": true
   },
   "outputs": [
    {
     "data": {
      "text/plain": [
       "{\n",
       "  1 : Alpha actinin\n",
       "  2 : Alpha tubulin\n",
       "  3 : Beta actin\n",
       "  4 : Desmoplakin\n",
       "  5 : Fibrillarin\n",
       "  6 : Lamin B1\n",
       "  7 : Myosin IIB\n",
       "  8 : Sec61 beta\n",
       "  9 : Tom20\n",
       "  10 : ZO1\n",
       "}\n"
      ]
     },
     "execution_count": 28,
     "metadata": {},
     "output_type": "execute_result"
    },
    {
     "data": {
      "text/plain": [
       " 22   2   5   1   0   0   0   0   0   1\n",
       "  0  36   3   0   0   0   0   1   1   0\n",
       "  3   7  19   0   0   0   0   0   0   0\n",
       "  1   0   1   7   0   0   0   0   0   1\n",
       "  0   0   0   0  35   0   0   0   0   0\n",
       "  0   0   0   0   0  46   0   0   0   0\n",
       "  2   0   0   1   0   0   0   0   1   4\n",
       "  0   1   0   0   0   0   0  50   0   0\n",
       "  0   1   0   0   0   0   0   0  47   0\n",
       "  1   0   0   1   0   0   2   0   0   1\n",
       "[torch.FloatTensor of size 10x10]\n",
       "\n",
       "total dat: 6077\t\n",
       "\t\n",
       "By label:\t\n",
       "Alpha actinin: 493, 462, 31\t\n",
       "Alpha tubulin: 1043, 1002, 41\t\n"
      ]
     },
     "execution_count": 28,
     "metadata": {},
     "output_type": "execute_result"
    },
    {
     "data": {
      "text/plain": [
       "Beta actin: 542, 513, 29\t\n",
       "Desmoplakin: 229, 219, 10\t\n",
       "Fibrillarin: 988, 953, 35\t\n",
       "Lamin B1: 785, 739, 46\t\n",
       "Myosin IIB: 157, 149, 8\t\n",
       "Sec61 beta: 835, 784, 51\t\n",
       "Tom20: 771, 723, 48\t\n",
       "ZO1: 234, 229, 5\t\n"
      ]
     },
     "execution_count": 28,
     "metadata": {},
     "output_type": "execute_result"
    }
   ],
   "source": [
    "\n",
    "classes_sort = {}\n",
    "for i = 1,#classes do\n",
    "    classes_sort[i] = classes[i]\n",
    "end\n",
    "    \n",
    "-- print(classes_sort)\n",
    "utils.alphanumsort(classes_sort)\n",
    "\n",
    "order = torch.zeros(#classes)\n",
    "order_bak = torch.zeros(#classes)\n",
    "for i = 1, #classes do\n",
    "    for j = 1, #classes do\n",
    "        if classes_sort[i] == classes[j] then\n",
    "            order[j] = i\n",
    "            order_bak[i] = j\n",
    "        end\n",
    "    end\n",
    "end\n",
    "print(classes_sort)\n",
    "-- print(classes)\n",
    "-- print(order)\n",
    "\n",
    "\n",
    "eval_images = function(encoder, dataProvider, train_or_test)\n",
    "        \n",
    "    require 'paths'\n",
    "\n",
    "\n",
    "    ndat = dataProvider[train_or_test].labels:size(1)\n",
    "    nclasses = dataProvider[train_or_test].labels:size(2)\n",
    "\n",
    "    confmat = torch.zeros(nclasses, nclasses)\n",
    "    \n",
    "    for j = 1,ndat do\n",
    "--         print('Printing image ' .. j)\n",
    "        img_num = torch.LongTensor{j}\n",
    "\n",
    "        label = dataProvider:getLabels(torch.LongTensor{j,j}, train_or_test)\n",
    "        local img = dataProvider:getImages(torch.LongTensor{j,j}, train_or_test):cuda()\n",
    "        local imsize = img:size()\n",
    "--         local out_latent = nil\n",
    "        out_latent = encoder:forward(img)        \n",
    "        out_pred = out_latent[1][1]:type('torch.FloatTensor')\n",
    "\n",
    "        tmp, pred_label = torch.max(out_pred,1)\n",
    "        \n",
    "        tmp, label = torch.max(label[1],1)\n",
    "\n",
    "        confmat[order[label[1]]][order[pred_label[1]]] = confmat[order[label[1]]][order[pred_label[1]]] + 1\n",
    "    end\n",
    "end\n",
    "\n",
    "eval_images(encoder, dataProvider, 'test')\n",
    "print(confmat)\n",
    "\n",
    "\n",
    "print('total dat: ' .. labels:size(1))\n",
    "\n",
    "print('')\n",
    "print('By label:')\n",
    "\n",
    "labels_test = labels:index(1,dataProvider.test.inds)\n",
    "labels_train = labels:index(1,dataProvider.train.inds)\n",
    "\n",
    "for i = 1, #dataProvider.classes do\n",
    "    i = order_bak[i]\n",
    "    ntot = torch.sum(torch.eq(labels,i))\n",
    "    ntest = torch.sum(torch.eq(labels_test,i))\n",
    "    ntrain = torch.sum(torch.eq(labels_train,i))\n",
    "    print(classes[i] .. ': ' .. ntot .. ', ' .. ntrain .. ', ' .. ntest)\n",
    "end"
   ]
  },
  {
   "cell_type": "code",
   "execution_count": 34,
   "metadata": {
    "collapsed": false,
    "deletable": true,
    "editable": true
   },
   "outputs": [
    {
     "data": {
      "text/plain": [
       "Alpha actinin & 22 & 2 & 5 & 1 & 0 & 0 & 0 & 0 & 0 & 1 \\\\\t\n",
       "Alpha tubulin & 0 & 36 & 3 & 0 & 0 & 0 & 0 & 1 & 1 & 0 \\\\\t\n",
       "Beta actin & 3 & 7 & 19 & 0 & 0 & 0 & 0 & 0 & 0 & 0 \\\\\t\n",
       "Desmoplakin & 1 & 0 & 1 & 7 & 0 & 0 & 0 & 0 & 0 & 1 \\\\\t\n",
       "Fibrillarin & 0 & 0 & 0 & 0 & 35 & 0 & 0 & 0 & 0 & 0 \\\\\t\n",
       "Lamin B1 & 0 & 0 & 0 & 0 & 0 & 46 & 0 & 0 & 0 & 0 \\\\\t\n",
       "Myosin IIB & 2 & 0 & 0 & 1 & 0 & 0 & 0 & 0 & 1 & 4 \\\\\t\n",
       "Sec61 beta & 0 & 1 & 0 & 0 & 0 & 0 & 0 & 50 & 0 & 0 \\\\\t\n",
       "Tom20 & 0 & 1 & 0 & 0 & 0 & 0 & 0 & 0 & 47 & 0 \\\\\t\n",
       "ZO1 & 1 & 0 & 0 & 1 & 0 & 0 & 2 & 0 & 0 & 1 \\\\\t\n"
      ]
     },
     "execution_count": 34,
     "metadata": {},
     "output_type": "execute_result"
    }
   ],
   "source": [
    "-- latex formatted table shennanary\n",
    "\n",
    "for i = 1,#classes do\n",
    "    str = classes_sort[i]\n",
    "    for j =1,#classes do\n",
    "        str = str .. ' & ' .. confmat[i][j]\n",
    "    end\n",
    "    str = str .. ' \\\\\\\\'\n",
    "    \n",
    "    print(str)\n",
    "end"
   ]
  },
  {
   "cell_type": "code",
   "execution_count": 36,
   "metadata": {
    "collapsed": false,
    "deletable": true,
    "editable": true
   },
   "outputs": [
    {
     "data": {
      "text/plain": [
       "Alpha actinin & 493 & 462 & 31 \\\\\t\n",
       "Alpha tubulin & 1043 & 1002 & 41 \\\\\t\n",
       "Beta actin & 542 & 513 & 29 \\\\\t\n",
       "Desmoplakin & 229 & 219 & 10 \\\\\t\n",
       "Fibrillarin & 988 & 953 & 35 \\\\\t\n",
       "Lamin B1 & 785 & 739 & 46 \\\\\t\n",
       "Myosin IIB & 157 & 149 & 8 \\\\\t\n",
       "Sec61 beta & 835 & 784 & 51 \\\\\t\n"
      ]
     },
     "execution_count": 36,
     "metadata": {},
     "output_type": "execute_result"
    },
    {
     "data": {
      "text/plain": [
       "Tom20 & 771 & 723 & 48 \\\\\t\n",
       "ZO1 & 234 & 229 & 5 \\\\\t\n"
      ]
     },
     "execution_count": 36,
     "metadata": {},
     "output_type": "execute_result"
    }
   ],
   "source": [
    "for i = 1, #dataProvider.classes do\n",
    "    i = order_bak[i]\n",
    "    ntot = torch.sum(torch.eq(labels,i))\n",
    "    ntest = torch.sum(torch.eq(labels_test,i))\n",
    "    ntrain = torch.sum(torch.eq(labels_train,i))\n",
    "    print(classes[i] .. ' & ' .. ntot .. ' & ' .. ntrain .. ' & ' .. ntest .. ' \\\\\\\\')\n",
    "end"
   ]
  },
  {
   "cell_type": "code",
   "execution_count": 4,
   "metadata": {
    "collapsed": false,
    "deletable": true,
    "editable": true
   },
   "outputs": [
    {
     "data": {
      "text/plain": [
       "total dat: 6077\t\n",
       "\t\n",
       "By label:\t\n",
       "Beta actin: 542, 513, 29\t\n",
       "ZO1: 234, 229, 5\t\n",
       "Sec61 beta: 835, 784, 51\t\n",
       "Alpha actinin: 493, 462, 31\t\n",
       "Tom20: 771, 723, 48\t\n",
       "Lamin B1: 785, 739, 46\t\n",
       "Alpha tubulin: 1043, 1002, 41\t\n"
      ]
     },
     "execution_count": 4,
     "metadata": {},
     "output_type": "execute_result"
    },
    {
     "data": {
      "text/plain": [
       "Desmoplakin: 229, 219, 10\t\n",
       "Myosin IIB: 157, 149, 8\t\n",
       "Fibrillarin: 988, 953, 35\t\n"
      ]
     },
     "execution_count": 4,
     "metadata": {},
     "output_type": "execute_result"
    }
   ],
   "source": [
    "print('total dat: ' .. labels:size(1))\n",
    "\n",
    "print('')\n",
    "print('By label:')\n",
    "\n",
    "labels_test = labels:index(1,dataProvider.test.inds)\n",
    "labels_train = labels:index(1,dataProvider.train.inds)\n",
    "\n",
    "for i = 1, #dataProvider.classes do\n",
    "    ntot = torch.sum(torch.eq(labels,i))\n",
    "    ntest = torch.sum(torch.eq(labels_test,i))\n",
    "    ntrain = torch.sum(torch.eq(labels_train,i))\n",
    "    print(classes[i] .. ': ' .. ntot .. ', ' .. ntrain .. ', ' .. ntest)\n",
    "end"
   ]
  },
  {
   "cell_type": "code",
   "execution_count": 20,
   "metadata": {
    "collapsed": false,
    "deletable": true,
    "editable": true
   },
   "outputs": [
    {
     "data": {
      "text/plain": [
       "{\n",
       "  1 : Beta actin\n",
       "  2 : ZO1\n",
       "  3 : Sec61 beta\n",
       "  4 : Alpha actinin\n",
       "  5 : Tom20\n",
       "  6 : Lamin B1\n",
       "  7 : Alpha tubulin\n",
       "  8 : Desmoplakin\n",
       "  9 : Myosin IIB\n",
       "  10 : Fibrillarin\n",
       "}\n",
       "{\n",
       "  1 : Alpha actinin\n",
       "  2 : Alpha tubulin\n",
       "  3 : Beta actin\n",
       "  4 : Desmoplakin\n",
       "  5 : Fibrillarin\n",
       "  6 : Lamin B1\n",
       "  7 : Myosin IIB\n",
       "  8 : Sec61 beta\n",
       "  9 : Tom20\n",
       "  10 : ZO1\n",
       "}\n",
       "{\n",
       "  1 : Alpha actinin\n",
       "  2 : Alpha tubulin\n",
       "  3 : Beta actin\n",
       "  4 : Desmoplakin\n",
       "  5 : Fibrillarin\n",
       "  6 : Lamin B1\n",
       "  7 : Myosin IIB\n",
       "  8 : Sec61 beta\n",
       "  9 : Tom20\n",
       "  "
      ]
     },
     "execution_count": 20,
     "metadata": {},
     "output_type": "execute_result"
    },
    {
     "data": {
      "text/plain": [
       "10 : ZO1\n",
       "}\n",
       "{\n",
       "  1 : Beta actin\n",
       "  2 : ZO1\n",
       "  3 : Sec61 beta\n",
       "  4 : Alpha actinin\n",
       "  5 : Tom20\n",
       "  6 : Lamin B1\n",
       "  7 : Alpha tubulin\n",
       "  8 : Desmoplakin\n",
       "  9 : Myosin IIB\n",
       "  10 : Fibrillarin\n",
       "}\n",
       "  4\n",
       "  7\n",
       "  1\n",
       "  8\n",
       " 10\n",
       "  6\n",
       "  9\n",
       "  3\n",
       "  5\n",
       "  2\n",
       "[torch.FloatTensor of size 10]\n",
       "\n"
      ]
     },
     "execution_count": 20,
     "metadata": {},
     "output_type": "execute_result"
    }
   ],
   "source": []
  },
  {
   "cell_type": "code",
   "execution_count": 9,
   "metadata": {
    "collapsed": false,
    "deletable": true,
    "editable": true
   },
   "outputs": [
    {
     "data": {
      "text/plain": [
       "ZO1\t\n"
      ]
     },
     "execution_count": 9,
     "metadata": {},
     "output_type": "execute_result"
    }
   ],
   "source": []
  },
  {
   "cell_type": "code",
   "execution_count": null,
   "metadata": {
    "collapsed": true,
    "deletable": true,
    "editable": true
   },
   "outputs": [],
   "source": []
  }
 ],
 "metadata": {
  "kernelspec": {
   "display_name": "iTorch",
   "language": "lua",
   "name": "itorch"
  },
  "language_info": {
   "name": "lua",
   "version": "5.1"
  }
 },
 "nbformat": 4,
 "nbformat_minor": 2
}
